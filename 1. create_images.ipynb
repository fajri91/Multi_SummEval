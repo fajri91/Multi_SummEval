{
 "cells": [
  {
   "cell_type": "code",
   "execution_count": 1,
   "metadata": {},
   "outputs": [],
   "source": [
    "# Annotation is based on Direct Assessment (DA):\n",
    "# https://github.com/ygraham/direct-assessment\n",
    "\n",
    "import pandas as pd\n",
    "from txt2img import text2png\n",
    "import random, os"
   ]
  },
  {
   "cell_type": "code",
   "execution_count": 12,
   "metadata": {},
   "outputs": [],
   "source": [
    "def process(data_path, trap_path, lang):\n",
    "    data=pd.read_csv(data_path)\n",
    "    trap=pd.read_csv(trap_path)\n",
    "    \n",
    "    out_dir = f'mturk/images/{lang}/'\n",
    "    out_dir_src = f'mturk/images/{lang}/src/'\n",
    "    out_dir_tgt = f'mturk/images/{lang}/tgt/'\n",
    "    if not os.path.exists(out_dir):\n",
    "        os.mkdir(out_dir)\n",
    "        os.mkdir(out_dir_src)\n",
    "        os.mkdir(out_dir_tgt)\n",
    "\n",
    "    def normalise(text):\n",
    "        text = text.split('\\n')\n",
    "        text = [a+'.' if  (len(a)>0 and a[-1]!= '.') else a for a in text]\n",
    "        return ' '.join(text)\n",
    "\n",
    "    for idx, row in data.iterrows():\n",
    "        src_fname = out_dir_src + row['id']+'.png'\n",
    "        tgt_fname = out_dir_tgt + row['id']+'.png'\n",
    "        text2png(normalise(row['text1']), src_fname, fontfullpath = \"times.ttf\", color = '#708090',fontsize=20)\n",
    "        text2png(normalise(row['text2']), tgt_fname, fontfullpath = \"times.ttf\",fontsize=20)\n",
    "    for idx, row in trap.iterrows():\n",
    "        src_fname = out_dir_src + row['id']+'.png'\n",
    "        tgt_fname = out_dir_tgt + row['id']+'.png'\n",
    "        text2png(normalise(row['text1']), src_fname, fontfullpath = \"times.ttf\", color = '#708090',fontsize=20)\n",
    "        text2png(normalise(row['text2']), tgt_fname, fontfullpath = \"times.ttf\",fontsize=20)\n",
    "\n",
    "\n",
    "    # Create 1 HITS where it contains 100 tasks\n",
    "\n",
    "    data = list(data['id'])\n",
    "    trap_same = [t for t in trap['id'] if 'SAME' in t]\n",
    "    trap_diff = [t for t in trap['id'] if 'DIFF' in t]\n",
    "    random.shuffle(data)\n",
    "    random.shuffle(trap_same)\n",
    "    random.shuffle(trap_diff)\n",
    "\n",
    "    prop_data = 90\n",
    "    prop_trap = 5\n",
    "\n",
    "    cols = []\n",
    "    for idx in range(100):\n",
    "        cols.append('text_'+str(idx))\n",
    "\n",
    "    df = pd.DataFrame(columns=cols)\n",
    "    for idx in range(6):\n",
    "        new_row = []\n",
    "        cur_data = data[idx*prop_data:idx*prop_data+prop_data]\n",
    "        cur_trap_same = trap_same[idx*prop_trap:idx*prop_trap+prop_trap]\n",
    "        cur_trap_diff = trap_diff[idx*prop_trap:idx*prop_trap+prop_trap]\n",
    "        new_row += (cur_data + cur_trap_same + cur_trap_diff)\n",
    "        random.shuffle(new_row)\n",
    "\n",
    "        row = {}\n",
    "        for idx in range(100):\n",
    "            row['text_'+str(idx)] = '\\''+new_row[idx]+'\\''\n",
    "        df = df.append(row, ignore_index=True)\n",
    "    df.to_csv(out_dir+'turker.csv', index=False)\n"
   ]
  },
  {
   "cell_type": "code",
   "execution_count": 13,
   "metadata": {},
   "outputs": [],
   "source": [
    "process('mturk/samples/data_ID.csv', 'mturk/samples/trap_ID.csv', 'ID')\n",
    "process('mturk/samples/data_ZH.csv', 'mturk/samples/trap_ZH.csv', 'ZH')\n",
    "process('mturk/samples/data_FR.csv', 'mturk/samples/trap_FR.csv', 'FR')\n",
    "process('mturk/samples/data_RU.csv', 'mturk/samples/trap_RU.csv', 'RU')\n",
    "process('mturk/samples/data_ES.csv', 'mturk/samples/trap_ES.csv', 'ES')\n",
    "process('mturk/samples/data_TR.csv', 'mturk/samples/trap_TR.csv', 'TR')\n",
    "process('mturk/samples/data_DE.csv', 'mturk/samples/trap_DE.csv', 'DE')"
   ]
  },
  {
   "cell_type": "code",
   "execution_count": null,
   "metadata": {},
   "outputs": [],
   "source": []
  }
 ],
 "metadata": {
  "kernelspec": {
   "display_name": "Python 3",
   "language": "python",
   "name": "python3"
  },
  "language_info": {
   "codemirror_mode": {
    "name": "ipython",
    "version": 3
   },
   "file_extension": ".py",
   "mimetype": "text/x-python",
   "name": "python",
   "nbconvert_exporter": "python",
   "pygments_lexer": "ipython3",
   "version": "3.7.6"
  }
 },
 "nbformat": 4,
 "nbformat_minor": 4
}
