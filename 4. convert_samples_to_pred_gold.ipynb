{
 "cells": [
  {
   "cell_type": "code",
   "execution_count": 9,
   "metadata": {},
   "outputs": [],
   "source": [
    "import pandas as pd\n",
    "import os\n",
    "\n",
    "!mkdir resulting_data\n",
    "\n",
    "def write(text, path):\n",
    "    f = open(path, 'w')\n",
    "    f.write(text)\n",
    "    f.close()\n",
    "\n",
    "langs = ['DE', 'ID', 'ZH', 'FR', 'RU', 'TR', 'ES']\n",
    "for lang in langs:\n",
    "    source_path = f'mturk/samples/data_{lang}.csv'\n",
    "    target_path = f'resulting_data/{lang}'\n",
    "    os.makedirs(target_path + '/gold', exist_ok = True)\n",
    "    os.makedirs(target_path + '/pred_BERT', exist_ok = True)\n",
    "    os.makedirs(target_path + '/pred_PG', exist_ok = True)\n",
    "    \n",
    "    data = pd.read_csv(source_path)\n",
    "    for idx, row in data.iterrows():\n",
    "        _, id, type1, type2, model = row['id'].split('-')\n",
    "        if type1 == 'REFERENCE':\n",
    "            write(row['text1'], f'{target_path}/gold/{id}')\n",
    "        elif type1 == 'SYSTEM':\n",
    "            if model == 'PG':\n",
    "                write(row['text1'], f'{target_path}/pred_PG/{id}')\n",
    "            elif model == 'BERT':\n",
    "                write(row['text1'], f'{target_path}/pred_BERT/{id}')\n",
    "                \n",
    "        if type2 == 'REFERENCE':\n",
    "            write(row['text2'], f'{target_path}/gold/{id}')\n",
    "        elif type2 == 'SYSTEM':\n",
    "            if model == 'PG':\n",
    "                write(row['text2'], f'{target_path}/pred_PG/{id}')\n",
    "            elif model == 'BERT':\n",
    "                write(row['text2'], f'{target_path}/pred_BERT/{id}')"
   ]
  },
  {
   "cell_type": "code",
   "execution_count": 23,
   "metadata": {},
   "outputs": [],
   "source": [
    "import pandas as pd\n",
    "langs = ['DE', 'ID', 'ZH', 'FR', 'RU', 'TR', 'ES', 'EN']\n",
    "\n",
    "for lang in langs:\n",
    "    focus_path = f'mturk/annotation_result/{lang}/human_focus_final.csv'\n",
    "    coverage_path = f'mturk/annotation_result/{lang}/human_coverage_final.csv'\n",
    "    target_path = f'resulting_data/{lang}/score.csv'\n",
    "    \n",
    "    df_foc = pd.read_csv(focus_path)\n",
    "    df_cov = pd.read_csv(coverage_path)\n",
    "    df_score = pd.DataFrame(columns=['id', 'model', 'focus', 'coverage'])\n",
    "    for idx, row in df_foc.iterrows():\n",
    "        foc = row['score']\n",
    "        cov = df_cov.loc[(df_cov['id'] == row['id']) & (df_cov['model'] == row['model'])]['score']\n",
    "        assert cov.shape[0] == 1\n",
    "        cov = cov.values[0]\n",
    "        df_score = df_score.append({'id': row['id'], 'model': row['model'], \\\n",
    "                                   'focus': foc, 'coverage': cov}, ignore_index=True)\n",
    "    df_score = df_score.sort_values(by=['id', 'model'], ignore_index=True)\n",
    "    df_score.to_csv(target_path, index=False)    "
   ]
  },
  {
   "cell_type": "code",
   "execution_count": null,
   "metadata": {},
   "outputs": [],
   "source": []
  }
 ],
 "metadata": {
  "kernelspec": {
   "display_name": "Python 3",
   "language": "python",
   "name": "python3"
  },
  "language_info": {
   "codemirror_mode": {
    "name": "ipython",
    "version": 3
   },
   "file_extension": ".py",
   "mimetype": "text/x-python",
   "name": "python",
   "nbconvert_exporter": "python",
   "pygments_lexer": "ipython3",
   "version": "3.7.6"
  }
 },
 "nbformat": 4,
 "nbformat_minor": 4
}
